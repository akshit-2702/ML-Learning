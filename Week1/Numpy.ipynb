{
 "cells": [
  {
   "cell_type": "code",
   "execution_count": 52,
   "id": "1ae64244-ad07-4ca6-9297-11bde5eb74bc",
   "metadata": {},
   "outputs": [],
   "source": [
    "import numpy as np"
   ]
  },
  {
   "cell_type": "markdown",
   "id": "7102c87b-d4a3-4142-87be-91318fceae2b",
   "metadata": {},
   "source": [
    "### Basics"
   ]
  },
  {
   "cell_type": "code",
   "execution_count": 53,
   "id": "9e3e3785-88c7-4e4e-89ef-f8d0f0415af7",
   "metadata": {},
   "outputs": [
    {
     "name": "stdout",
     "output_type": "stream",
     "text": [
      "[1 2 3]\n"
     ]
    }
   ],
   "source": [
    "#Making a 1D Array\n",
    "a = np.array([1,2,3], dtype='int32')\n",
    "print(a)"
   ]
  },
  {
   "cell_type": "code",
   "execution_count": 54,
   "id": "52950450-8c63-44fc-8c2d-7023b9a32951",
   "metadata": {},
   "outputs": [
    {
     "name": "stdout",
     "output_type": "stream",
     "text": [
      "[[1 2 3]\n",
      " [4 5 6]]\n"
     ]
    }
   ],
   "source": [
    "#2D Array\n",
    "b = np.array([[1,2,3],[4,5,6]])\n",
    "print(b)"
   ]
  },
  {
   "cell_type": "code",
   "execution_count": 55,
   "id": "f607e5b5-8e7f-4bc4-ba38-12e2ef2795e2",
   "metadata": {},
   "outputs": [
    {
     "name": "stdout",
     "output_type": "stream",
     "text": [
      "1\n",
      "2\n"
     ]
    }
   ],
   "source": [
    "#Get Dimensions\n",
    "print(a.ndim)\n",
    "print(b.ndim)"
   ]
  },
  {
   "cell_type": "code",
   "execution_count": 56,
   "id": "cec2d392-ca8c-4512-a30a-7ea6c68bee86",
   "metadata": {},
   "outputs": [
    {
     "name": "stdout",
     "output_type": "stream",
     "text": [
      "(3,)\n",
      "(2, 3)\n"
     ]
    }
   ],
   "source": [
    "#Get Shape\n",
    "print(a.shape) #3 elements\n",
    "print(b.shape) #2 Rows, 3 Columns\n"
   ]
  },
  {
   "cell_type": "code",
   "execution_count": 57,
   "id": "c19e2fe5-ed1c-4d77-9f84-c819e443effb",
   "metadata": {},
   "outputs": [
    {
     "name": "stdout",
     "output_type": "stream",
     "text": [
      "int32\n",
      "int64\n"
     ]
    }
   ],
   "source": [
    "#Get Type\n",
    "print(a.dtype)\n",
    "print(b.dtype)"
   ]
  },
  {
   "cell_type": "code",
   "execution_count": 58,
   "id": "2ee935d6-857a-496e-a60e-dec68b7578da",
   "metadata": {},
   "outputs": [
    {
     "name": "stdout",
     "output_type": "stream",
     "text": [
      "4\n",
      "8\n"
     ]
    }
   ],
   "source": [
    "#Get Size\n",
    "print(a.itemsize) #32 bits is 4 bytes\n",
    "print(b.itemsize) #64 bits is 8 bytes"
   ]
  },
  {
   "cell_type": "code",
   "execution_count": 59,
   "id": "37852d77-9b66-4cfb-aeef-bbe1f39ebb04",
   "metadata": {},
   "outputs": [
    {
     "name": "stdout",
     "output_type": "stream",
     "text": [
      "12\n",
      "48\n",
      "12\n",
      "48\n"
     ]
    }
   ],
   "source": [
    "#Get total size\n",
    "print(a.size*a.itemsize) # 3 elements of 4 bytes\n",
    "print(b.size*b.itemsize) # 6 elements of 8 bytes\n",
    "\n",
    "# OR\n",
    "print(a.nbytes)\n",
    "print(b.nbytes)"
   ]
  },
  {
   "cell_type": "markdown",
   "id": "0102619d-c1a9-4f3e-a97f-5a63eba87916",
   "metadata": {},
   "source": [
    "### Accessing/Changing specific elements,rows,columns,etc"
   ]
  },
  {
   "cell_type": "code",
   "execution_count": 61,
   "id": "2805263f-c3a4-4e70-854b-736015e53e53",
   "metadata": {},
   "outputs": [
    {
     "name": "stdout",
     "output_type": "stream",
     "text": [
      "[[ 1  2  3  4  5  6  7]\n",
      " [ 8  9 10 11 12 13 14]]\n"
     ]
    }
   ],
   "source": [
    "a = np.array([[1,2,3,4,5,6,7],[8,9,10,11,12,13,14]])\n",
    "print(a)"
   ]
  },
  {
   "cell_type": "code",
   "execution_count": 62,
   "id": "f675be45-3c08-40a5-b73e-745d1fe24e3b",
   "metadata": {},
   "outputs": [
    {
     "data": {
      "text/plain": [
       "(2, 7)"
      ]
     },
     "execution_count": 62,
     "metadata": {},
     "output_type": "execute_result"
    }
   ],
   "source": [
    "a.shape #2R 7C"
   ]
  },
  {
   "cell_type": "code",
   "execution_count": 66,
   "id": "7c334b9e-cc5e-420c-a614-7be98c241c66",
   "metadata": {},
   "outputs": [
    {
     "name": "stdout",
     "output_type": "stream",
     "text": [
      "2\n",
      "2\n"
     ]
    }
   ],
   "source": [
    "#Get a specific element\n",
    "print(a[0][1]) #1st Row & 2nd column (2)\n",
    "#OR\n",
    "print(a[0,1])"
   ]
  },
  {
   "cell_type": "code",
   "execution_count": 67,
   "id": "2974c9be-cc1e-45ed-b74d-cdfba09ba89f",
   "metadata": {},
   "outputs": [
    {
     "data": {
      "text/plain": [
       "array([1, 2, 3, 4, 5, 6, 7])"
      ]
     },
     "execution_count": 67,
     "metadata": {},
     "output_type": "execute_result"
    }
   ],
   "source": [
    "#Get a specific row\n",
    "a[0,:]"
   ]
  },
  {
   "cell_type": "code",
   "execution_count": 68,
   "id": "0f667264-f99b-42c3-8026-e3e5b325465c",
   "metadata": {},
   "outputs": [
    {
     "data": {
      "text/plain": [
       "array([ 6, 13])"
      ]
     },
     "execution_count": 68,
     "metadata": {},
     "output_type": "execute_result"
    }
   ],
   "source": [
    "#Get a specific column\n",
    "a[:,5]"
   ]
  },
  {
   "cell_type": "code",
   "execution_count": 70,
   "id": "0b028c05-c3fe-4de4-b895-fadc4269d502",
   "metadata": {},
   "outputs": [
    {
     "data": {
      "text/plain": [
       "array([2, 3, 4, 5, 6, 7])"
      ]
     },
     "execution_count": 70,
     "metadata": {},
     "output_type": "execute_result"
    }
   ],
   "source": [
    "#Fancy boi\n",
    "a[0,1:7] #1st row and columns 2 to 6"
   ]
  },
  {
   "cell_type": "code",
   "execution_count": 73,
   "id": "1fb96ecf-1dbd-4c00-b612-c19406f98133",
   "metadata": {},
   "outputs": [
    {
     "data": {
      "text/plain": [
       "array([ 9, 11, 13])"
      ]
     },
     "execution_count": 73,
     "metadata": {},
     "output_type": "execute_result"
    }
   ],
   "source": [
    "#even more fancy\n",
    "a[1,1:6:2] #1st Row and colums from 2 to 5, skipping 2 elements"
   ]
  },
  {
   "cell_type": "code",
   "execution_count": 80,
   "id": "24d49810-028e-479b-b36b-adeb1da49243",
   "metadata": {},
   "outputs": [
    {
     "name": "stdout",
     "output_type": "stream",
     "text": [
      "[[ 1  2  3  4  5  2  7]\n",
      " [ 2  2  2  2  2  2 20]]\n"
     ]
    },
    {
     "data": {
      "text/plain": [
       "array([[1, 2, 3, 4, 5, 2, 7],\n",
       "       [3, 3, 3, 3, 3, 3, 3]])"
      ]
     },
     "execution_count": 80,
     "metadata": {},
     "output_type": "execute_result"
    }
   ],
   "source": [
    "a[1,6] = 20\n",
    "print(a)\n",
    "\n",
    "a[1,:] = 3\n",
    "a"
   ]
  },
  {
   "cell_type": "markdown",
   "id": "6edfe715-0646-4eb1-98c6-4590858fe8b7",
   "metadata": {},
   "source": [
    "#### 3D Example"
   ]
  },
  {
   "cell_type": "code",
   "execution_count": 82,
   "id": "23af249e-d91d-4160-aaed-ccf661eb00c3",
   "metadata": {},
   "outputs": [
    {
     "name": "stdout",
     "output_type": "stream",
     "text": [
      "[[[1 2]\n",
      "  [3 4]]\n",
      "\n",
      " [[5 6]\n",
      "  [7 8]]]\n"
     ]
    }
   ],
   "source": [
    "b = np.array([[[1,2],[3,4]],[[5,6],[7,8]]])\n",
    "print(b)"
   ]
  },
  {
   "cell_type": "code",
   "execution_count": 95,
   "id": "94ccab69-481f-49b3-802a-078d86f343e5",
   "metadata": {},
   "outputs": [
    {
     "data": {
      "text/plain": [
       "np.int64(7)"
      ]
     },
     "execution_count": 95,
     "metadata": {},
     "output_type": "execute_result"
    }
   ],
   "source": [
    "# Get a specific element (Work outside in)\n",
    "\n",
    "#Let's say we want '7'\n",
    "b[1,1,0]"
   ]
  },
  {
   "cell_type": "markdown",
   "id": "faf6d360-83ab-4682-959c-4e27753386c7",
   "metadata": {},
   "source": [
    "### Initializing Diff Types of Arrays"
   ]
  },
  {
   "cell_type": "code",
   "execution_count": 97,
   "id": "54d36bc3-f8c2-4dc8-a4bb-cabe4f9cc1d0",
   "metadata": {},
   "outputs": [
    {
     "data": {
      "text/plain": [
       "array([[0., 0., 0.],\n",
       "       [0., 0., 0.]])"
      ]
     },
     "execution_count": 97,
     "metadata": {},
     "output_type": "execute_result"
    }
   ],
   "source": [
    "# All Zeroes Matrix\n",
    "np.zeros((2,3)) # 2R 3C of 0's"
   ]
  },
  {
   "cell_type": "code",
   "execution_count": 98,
   "id": "4ecf0336-84ed-4074-80d7-36d2e35cae1c",
   "metadata": {},
   "outputs": [
    {
     "data": {
      "text/plain": [
       "array([[1., 1., 1.],\n",
       "       [1., 1., 1.],\n",
       "       [1., 1., 1.],\n",
       "       [1., 1., 1.]])"
      ]
     },
     "execution_count": 98,
     "metadata": {},
     "output_type": "execute_result"
    }
   ],
   "source": [
    "#All Ones Matrix\n",
    "\n",
    "np.ones((4,3))"
   ]
  },
  {
   "cell_type": "code",
   "execution_count": 99,
   "id": "2a28ea0d-37f7-43a3-9167-4a52fe4fa9c6",
   "metadata": {},
   "outputs": [
    {
     "data": {
      "text/plain": [
       "array([[99, 99, 99, 99],\n",
       "       [99, 99, 99, 99],\n",
       "       [99, 99, 99, 99]])"
      ]
     },
     "execution_count": 99,
     "metadata": {},
     "output_type": "execute_result"
    }
   ],
   "source": [
    "# Any other number\n",
    "np.full((3,4),99)"
   ]
  },
  {
   "cell_type": "code",
   "execution_count": 100,
   "id": "f5b1ea55-38df-4cc1-91d7-c483b0e2360f",
   "metadata": {},
   "outputs": [
    {
     "data": {
      "text/plain": [
       "array([[0.51988027, 0.35514626],\n",
       "       [0.37075196, 0.4539726 ],\n",
       "       [0.06248572, 0.35189342],\n",
       "       [0.65474924, 0.05202102]])"
      ]
     },
     "execution_count": 100,
     "metadata": {},
     "output_type": "execute_result"
    }
   ],
   "source": [
    "#Random decimal numbers\n",
    "np.random.rand(4,2)"
   ]
  },
  {
   "cell_type": "code",
   "execution_count": 104,
   "id": "930f1d39-16da-4e86-8c3c-09c552e2e238",
   "metadata": {},
   "outputs": [
    {
     "data": {
      "text/plain": [
       "array([[2, 0, 4],\n",
       "       [3, 1, 2],\n",
       "       [3, 3, 2]])"
      ]
     },
     "execution_count": 104,
     "metadata": {},
     "output_type": "execute_result"
    }
   ],
   "source": [
    "#Random integer numbers\n",
    "np.random.randint(0,5,size=(3,3)) #Lower bound, Upper bound, size"
   ]
  },
  {
   "cell_type": "code",
   "execution_count": 105,
   "id": "f67dcfc7-8ad6-4b16-b8ed-422fa42a74c3",
   "metadata": {},
   "outputs": [
    {
     "data": {
      "text/plain": [
       "array([[1., 0., 0., 0.],\n",
       "       [0., 1., 0., 0.],\n",
       "       [0., 0., 1., 0.],\n",
       "       [0., 0., 0., 1.]])"
      ]
     },
     "execution_count": 105,
     "metadata": {},
     "output_type": "execute_result"
    }
   ],
   "source": [
    "#Identity Matrix\n",
    "np.identity(4)"
   ]
  },
  {
   "cell_type": "code",
   "execution_count": 119,
   "id": "b99c21e5-8ded-4209-ad71-617283c99e61",
   "metadata": {},
   "outputs": [
    {
     "name": "stdout",
     "output_type": "stream",
     "text": [
      "[[1 2 3 4]\n",
      " [1 2 3 4]]\n"
     ]
    }
   ],
   "source": [
    "# Repeat\n",
    "arr = np.array([[1,2,3,4]])\n",
    "r1 = np.repeat(arr,3,axis=0)\n",
    "print(r1)"
   ]
  },
  {
   "cell_type": "code",
   "execution_count": 127,
   "id": "79a6dc57-1058-40d2-9a18-e27decf2f09f",
   "metadata": {},
   "outputs": [
    {
     "name": "stdout",
     "output_type": "stream",
     "text": [
      "[[1. 1. 1. 1. 1.]\n",
      " [1. 0. 0. 0. 1.]\n",
      " [1. 0. 9. 0. 1.]\n",
      " [1. 0. 0. 0. 1.]\n",
      " [1. 1. 1. 1. 1.]]\n"
     ]
    }
   ],
   "source": [
    "output = np.ones((5,5))\n",
    "\n",
    "\n",
    "z = np.zeros((3,3))\n",
    "z[1,1] = 9\n",
    "\n",
    "\n",
    "output[1:4,1:4] = z\n",
    "print(output)\n"
   ]
  },
  {
   "cell_type": "markdown",
   "id": "9c1a1c1c-5361-4a01-865f-52cb7c16995f",
   "metadata": {},
   "source": [
    "### Copying Arrays"
   ]
  },
  {
   "cell_type": "code",
   "execution_count": 131,
   "id": "45022469-7153-4e61-97b8-530f580f4579",
   "metadata": {},
   "outputs": [
    {
     "name": "stdout",
     "output_type": "stream",
     "text": [
      "[100   2   3]\n",
      "[100   2   3]\n"
     ]
    }
   ],
   "source": [
    "a = np.array([1,2,3])\n",
    "b = a\n",
    "b[0] = 100\n",
    "print(a)\n",
    "print(b)\n",
    "#a also got changed"
   ]
  },
  {
   "cell_type": "code",
   "execution_count": 134,
   "id": "dc71354e-3626-4e83-bcb9-fb36fd3fc097",
   "metadata": {},
   "outputs": [
    {
     "name": "stdout",
     "output_type": "stream",
     "text": [
      "[1 2 3]\n",
      "[100   2   3]\n",
      "[  1 200   3]\n"
     ]
    }
   ],
   "source": [
    "a = np.array([1,2,3])\n",
    "b = a.copy() #OR \n",
    "c = np.copy(a)\n",
    "b[0] = 100\n",
    "c[1] = 200\n",
    "print(a)\n",
    "print(b)\n",
    "print(c)"
   ]
  },
  {
   "cell_type": "markdown",
   "id": "00a61d45-547c-46bb-bf45-0d684df4c039",
   "metadata": {},
   "source": [
    "### Mathematics"
   ]
  },
  {
   "cell_type": "code",
   "execution_count": 136,
   "id": "81e4f2c3-9d37-4980-89a4-acc89ed9a0d3",
   "metadata": {},
   "outputs": [
    {
     "name": "stdout",
     "output_type": "stream",
     "text": [
      "[1 2 3 4]\n"
     ]
    }
   ],
   "source": [
    "a = np.array([1,2,3,4])\n",
    "print(a)"
   ]
  },
  {
   "cell_type": "code",
   "execution_count": 137,
   "id": "9be30f52-e11e-44d7-9839-326c5f02e830",
   "metadata": {},
   "outputs": [
    {
     "data": {
      "text/plain": [
       "array([3, 4, 5, 6])"
      ]
     },
     "execution_count": 137,
     "metadata": {},
     "output_type": "execute_result"
    }
   ],
   "source": [
    "a+2"
   ]
  },
  {
   "cell_type": "code",
   "execution_count": 138,
   "id": "4dbade73-deef-4aba-ae35-5f5d5be7cda8",
   "metadata": {},
   "outputs": [
    {
     "data": {
      "text/plain": [
       "array([-1,  0,  1,  2])"
      ]
     },
     "execution_count": 138,
     "metadata": {},
     "output_type": "execute_result"
    }
   ],
   "source": [
    "a-2"
   ]
  },
  {
   "cell_type": "code",
   "execution_count": 139,
   "id": "0bc31f77-0306-4b76-a62e-cbda4540cb20",
   "metadata": {},
   "outputs": [
    {
     "data": {
      "text/plain": [
       "array([ 1,  4,  9, 16])"
      ]
     },
     "execution_count": 139,
     "metadata": {},
     "output_type": "execute_result"
    }
   ],
   "source": [
    "a**2"
   ]
  },
  {
   "cell_type": "code",
   "execution_count": 140,
   "id": "481e5627-4637-498c-80f7-930fdde856cc",
   "metadata": {},
   "outputs": [
    {
     "data": {
      "text/plain": [
       "array([2, 4, 6, 8])"
      ]
     },
     "execution_count": 140,
     "metadata": {},
     "output_type": "execute_result"
    }
   ],
   "source": [
    "a*2"
   ]
  },
  {
   "cell_type": "code",
   "execution_count": 141,
   "id": "a7d69533-c65d-4dcc-b982-b803881fff88",
   "metadata": {},
   "outputs": [
    {
     "data": {
      "text/plain": [
       "array([0.5, 1. , 1.5, 2. ])"
      ]
     },
     "execution_count": 141,
     "metadata": {},
     "output_type": "execute_result"
    }
   ],
   "source": [
    "a/2"
   ]
  },
  {
   "cell_type": "code",
   "execution_count": 145,
   "id": "a052c812-b3ee-4f47-b462-37620981a12d",
   "metadata": {},
   "outputs": [
    {
     "data": {
      "text/plain": [
       "array([2.  , 6.  , 8.  , 7.14])"
      ]
     },
     "execution_count": 145,
     "metadata": {},
     "output_type": "execute_result"
    }
   ],
   "source": [
    "b = np.array([1,4,5,3.14])\n",
    "a+b"
   ]
  },
  {
   "cell_type": "code",
   "execution_count": 143,
   "id": "099e06a5-bacb-43d6-a9ea-300b3773d3bd",
   "metadata": {},
   "outputs": [
    {
     "data": {
      "text/plain": [
       "array([ 0.54030231, -0.41614684, -0.9899925 , -0.65364362])"
      ]
     },
     "execution_count": 143,
     "metadata": {},
     "output_type": "execute_result"
    }
   ],
   "source": [
    "# Take cosine\n",
    "np.cos(a)"
   ]
  },
  {
   "cell_type": "code",
   "execution_count": 146,
   "id": "5a633594-4bf9-42dc-9d1f-c78e1bf2a354",
   "metadata": {},
   "outputs": [
    {
     "data": {
      "text/plain": [
       "array([ 0.84147098, -0.7568025 , -0.95892427,  0.00159265])"
      ]
     },
     "execution_count": 146,
     "metadata": {},
     "output_type": "execute_result"
    }
   ],
   "source": [
    "#Take sine\n",
    "np.sin(b)"
   ]
  },
  {
   "cell_type": "markdown",
   "id": "6e5412f8-4bd0-441b-80f9-dec0fd3c8981",
   "metadata": {},
   "source": [
    "### Linear Algebra"
   ]
  },
  {
   "cell_type": "code",
   "execution_count": 147,
   "id": "4db95e6d-5cf8-474e-a0e6-822a6fb386c2",
   "metadata": {},
   "outputs": [
    {
     "name": "stdout",
     "output_type": "stream",
     "text": [
      "[[1. 1. 1.]\n",
      " [1. 1. 1.]]\n",
      "[[2 2]\n",
      " [2 2]\n",
      " [2 2]]\n"
     ]
    }
   ],
   "source": [
    "a = np.ones((2,3))\n",
    "print(a)\n",
    "\n",
    "b = np.full((3,2),2)\n",
    "print(b)"
   ]
  },
  {
   "cell_type": "code",
   "execution_count": 148,
   "id": "fe879eaf-7711-4630-b71f-88dc072ca74e",
   "metadata": {},
   "outputs": [
    {
     "data": {
      "text/plain": [
       "array([[6., 6.],\n",
       "       [6., 6.]])"
      ]
     },
     "execution_count": 148,
     "metadata": {},
     "output_type": "execute_result"
    }
   ],
   "source": [
    "np.matmul(a,b)"
   ]
  },
  {
   "cell_type": "code",
   "execution_count": 151,
   "id": "5e1d0d50-0bec-4e81-a84b-6971a93faf34",
   "metadata": {},
   "outputs": [
    {
     "name": "stdout",
     "output_type": "stream",
     "text": [
      "1.0\n"
     ]
    }
   ],
   "source": [
    "# Finding determinant\n",
    "c = np.identity(3)\n",
    "ans = np.linalg.det(c)\n",
    "print(ans)"
   ]
  },
  {
   "cell_type": "markdown",
   "id": "f175e9cc-7383-409f-a550-d23b76c835ff",
   "metadata": {},
   "source": [
    "### Statistics"
   ]
  },
  {
   "cell_type": "code",
   "execution_count": 152,
   "id": "6a67cb58-c96e-4051-9cf4-d2dea3a96d56",
   "metadata": {},
   "outputs": [
    {
     "data": {
      "text/plain": [
       "array([[1, 2, 3],\n",
       "       [4, 5, 6]])"
      ]
     },
     "execution_count": 152,
     "metadata": {},
     "output_type": "execute_result"
    }
   ],
   "source": [
    "stats = np.array([[1,2,3],[4,5,6]])\n",
    "stats"
   ]
  },
  {
   "cell_type": "code",
   "execution_count": 155,
   "id": "62e573d1-2ecc-47ee-94e7-bbf52c960671",
   "metadata": {},
   "outputs": [
    {
     "name": "stdout",
     "output_type": "stream",
     "text": [
      "1\n"
     ]
    }
   ],
   "source": [
    "ans = np.min(stats)\n",
    "print(ans)"
   ]
  },
  {
   "cell_type": "code",
   "execution_count": 157,
   "id": "4e66faf2-4ac4-45d5-b122-4c82b136f765",
   "metadata": {},
   "outputs": [
    {
     "name": "stdout",
     "output_type": "stream",
     "text": [
      "6\n"
     ]
    }
   ],
   "source": [
    "answer = np.max(stats)\n",
    "print(answer)"
   ]
  },
  {
   "cell_type": "code",
   "execution_count": 158,
   "id": "d06a51cc-1148-4ee1-88dc-e0721caeb17e",
   "metadata": {},
   "outputs": [
    {
     "name": "stdout",
     "output_type": "stream",
     "text": [
      "21\n"
     ]
    }
   ],
   "source": [
    "print(np.sum(stats))"
   ]
  },
  {
   "cell_type": "markdown",
   "id": "cf5088a8-c1de-42dc-af20-eda227f8f2da",
   "metadata": {},
   "source": [
    "### Reorganizing Arrays"
   ]
  },
  {
   "cell_type": "code",
   "execution_count": 159,
   "id": "1ca3f892-0fc4-4114-a7f9-e5b409b01dba",
   "metadata": {},
   "outputs": [
    {
     "name": "stdout",
     "output_type": "stream",
     "text": [
      "[[1 2 3 4]\n",
      " [5 6 7 8]]\n"
     ]
    }
   ],
   "source": [
    "before = np.array([[1,2,3,4],[5,6,7,8]])\n",
    "print(before)"
   ]
  },
  {
   "cell_type": "code",
   "execution_count": 163,
   "id": "9a946e59-9e8d-4c17-bed1-e891d1c628f2",
   "metadata": {},
   "outputs": [
    {
     "name": "stdout",
     "output_type": "stream",
     "text": [
      "[[[1 2]\n",
      "  [3 4]]\n",
      "\n",
      " [[5 6]\n",
      "  [7 8]]]\n"
     ]
    }
   ],
   "source": [
    "after = before.reshape((2,2,2))\n",
    "print(after)"
   ]
  },
  {
   "cell_type": "code",
   "execution_count": 166,
   "id": "652fcd20-c21c-4c07-a40f-6dc356767012",
   "metadata": {},
   "outputs": [
    {
     "name": "stdout",
     "output_type": "stream",
     "text": [
      "[[1 2 3 4]\n",
      " [5 6 7 8]\n",
      " [1 2 3 4]\n",
      " [5 6 7 8]]\n"
     ]
    }
   ],
   "source": [
    "# Vertically stacking vectors\n",
    "\n",
    "v1 = np.array([1,2,3,4])\n",
    "v2 = np.array([5,6,7,8])\n",
    "output = np.vstack([v1,v2,v1,v2])\n",
    "print(output)"
   ]
  },
  {
   "cell_type": "code",
   "execution_count": 170,
   "id": "637d06bd-9efc-4063-a1e1-907ab16c49b2",
   "metadata": {},
   "outputs": [
    {
     "name": "stdout",
     "output_type": "stream",
     "text": [
      "[[1. 1. 1. 1. 0. 0.]\n",
      " [1. 1. 1. 1. 0. 0.]]\n"
     ]
    }
   ],
   "source": [
    "# Horizontally stacking vectors\n",
    "\n",
    "h1 = np.ones((2,4))\n",
    "h2 = np.zeros((2,2))\n",
    "output = np.hstack([h1,h2])\n",
    "print(output)"
   ]
  },
  {
   "cell_type": "markdown",
   "id": "f02628ea-6c5a-46db-96b4-ef96b920fe5e",
   "metadata": {},
   "source": [
    "### Miscellaneous"
   ]
  },
  {
   "cell_type": "markdown",
   "id": "048830c2-1c7e-4664-8e6a-d3063c55a0e9",
   "metadata": {},
   "source": [
    "#### Load Data from file"
   ]
  },
  {
   "cell_type": "code",
   "execution_count": null,
   "id": "d70d7099-3b79-48d9-8016-8081cf297be8",
   "metadata": {},
   "outputs": [],
   "source": []
  }
 ],
 "metadata": {
  "kernelspec": {
   "display_name": "Python 3 (ipykernel)",
   "language": "python",
   "name": "python3"
  },
  "language_info": {
   "codemirror_mode": {
    "name": "ipython",
    "version": 3
   },
   "file_extension": ".py",
   "mimetype": "text/x-python",
   "name": "python",
   "nbconvert_exporter": "python",
   "pygments_lexer": "ipython3",
   "version": "3.13.1"
  }
 },
 "nbformat": 4,
 "nbformat_minor": 5
}
