{
 "cells": [
  {
   "cell_type": "code",
   "execution_count": 1,
   "id": "b394a4e6-1182-4ec8-b237-3c600795c802",
   "metadata": {},
   "outputs": [
    {
     "name": "stdout",
     "output_type": "stream",
     "text": [
      "Sum: 15\n",
      "Nums: [1, 2, 3]\n",
      "1\n",
      "4\n",
      "9\n",
      "Add 2 + 3: 5\n"
     ]
    }
   ],
   "source": [
    "# Variables\n",
    "a = 10\n",
    "b = 5\n",
    "print(\"Sum:\", a + b)\n",
    "\n",
    "# List\n",
    "nums = [1, 2, 3]\n",
    "print(\"Nums:\", nums)\n",
    "\n",
    "# Loop\n",
    "for n in nums:\n",
    "    print(n**2)\n",
    "\n",
    "# Function\n",
    "def add(x, y):\n",
    "    return x + y\n",
    "\n",
    "print(\"Add 2 + 3:\", add(2,3))\n"
   ]
  },
  {
   "cell_type": "code",
   "execution_count": null,
   "id": "7406a8dc-0dc6-41c7-9999-9723f3f4ab77",
   "metadata": {},
   "outputs": [],
   "source": []
  }
 ],
 "metadata": {
  "kernelspec": {
   "display_name": "Python 3 (ipykernel)",
   "language": "python",
   "name": "python3"
  },
  "language_info": {
   "codemirror_mode": {
    "name": "ipython",
    "version": 3
   },
   "file_extension": ".py",
   "mimetype": "text/x-python",
   "name": "python",
   "nbconvert_exporter": "python",
   "pygments_lexer": "ipython3",
   "version": "3.13.1"
  }
 },
 "nbformat": 4,
 "nbformat_minor": 5
}
